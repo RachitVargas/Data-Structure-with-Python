{
 "cells": [
  {
   "cell_type": "markdown",
   "metadata": {},
   "source": [
    "# Estructuras de datos - algoritmos\n",
    "# Rachit vargas "
   ]
  },
  {
   "cell_type": "markdown",
   "metadata": {},
   "source": [
    "### Ordenamiento de burbuja - complejidad computacional O(n^2)"
   ]
  },
  {
   "cell_type": "code",
   "execution_count": 2,
   "metadata": {},
   "outputs": [
    {
     "name": "stdout",
     "output_type": "stream",
     "text": [
      "[2, 3, 5, 3, 2, 1, 9, 38, 43, 2, 3, 223, 22, 45, 23, 22, 1, 23]\n",
      "[1, 1, 2, 2, 2, 3, 3, 3, 5, 9, 22, 22, 23, 23, 38, 43, 45, 223]\n"
     ]
    }
   ],
   "source": [
    "class Bubble:\n",
    "    \n",
    "    def __init__(self, lista):\n",
    "        self.lista = lista\n",
    "        print(lista)\n",
    "    \n",
    "    def ordenamiento(self):\n",
    "        \n",
    "        for i in range(len(self.lista)):\n",
    "            for j in range(len(self.lista)-i-1):\n",
    "                if self.lista[j] > self.lista[j + 1]:\n",
    "                    temp = self.lista[j]\n",
    "                    self.lista[j] = self.lista[j + 1]\n",
    "                    self.lista[j + 1] = temp\n",
    "        \n",
    "        return self.lista\n",
    "\n",
    "lista = [2,3,5,3,2,1,9,38,43,2,3,223,22,45,23,22,1,23]\n",
    "bubble = Bubble(lista)\n",
    "print(bubble.ordenamiento())"
   ]
  },
  {
   "cell_type": "markdown",
   "metadata": {},
   "source": [
    "### Cola - complejidad computacional O(n)"
   ]
  },
  {
   "cell_type": "code",
   "execution_count": 4,
   "metadata": {},
   "outputs": [
    {
     "name": "stdout",
     "output_type": "stream",
     "text": [
      "1\n",
      "2\n",
      "3\n"
     ]
    }
   ],
   "source": [
    "class Cola():\n",
    "    \n",
    "    def __init__(self, data, head, tail):\n",
    "        \n",
    "        self.data = data\n",
    "        self.head = head\n",
    "        self.tail = tail\n",
    "        \n",
    "    def enqueue(self, new_value):    \n",
    "        self.new_value = new_value\n",
    "        self.data.append(self.new_value)\n",
    "        self.tail += 1\n",
    "        \n",
    "    def dequeue (self):\n",
    "        \n",
    "        try:\n",
    "            resultado = self.data[self.head]\n",
    "            self.data[self.head] = None\n",
    "            self.head += 1\n",
    "        except:\n",
    "            print('Lo sentimos, ha ocurrido un error')\n",
    "        \n",
    "        return resultado\n",
    "        \n",
    "data = []\n",
    "cola = Cola(data, head=0,tail=0)\n",
    "\n",
    "# Metiendo datos de la cola\n",
    "cola.enqueue(1)\n",
    "cola.enqueue(2)\n",
    "cola.enqueue(3)\n",
    "cola.enqueue(4)\n",
    "\n",
    "# Sacando datos de la cola\n",
    "print(cola.dequeue())\n",
    "print(cola.dequeue())\n",
    "print(cola.dequeue())\n",
    "\n"
   ]
  },
  {
   "cell_type": "markdown",
   "metadata": {},
   "source": [
    "### Pila - Complejidad computacional O(n)"
   ]
  },
  {
   "cell_type": "code",
   "execution_count": 3,
   "metadata": {},
   "outputs": [
    {
     "name": "stdout",
     "output_type": "stream",
     "text": [
      "5\n",
      "4\n",
      "3\n"
     ]
    }
   ],
   "source": [
    "class Pila():\n",
    "    \n",
    "    def __init__(self, data, top):\n",
    "        self.top = top\n",
    "        self.data = data\n",
    "        \n",
    "    def empty (self):\n",
    "        \n",
    "        if self.top == 0:\n",
    "            return True\n",
    "        else:\n",
    "            return False\n",
    "        \n",
    "    def push (self, new_value):\n",
    "        \n",
    "        self.new_value = new_value\n",
    "        self.data.append(new_value)\n",
    "        self.top += 1\n",
    "    \n",
    "    def pop(self):\n",
    "\n",
    "        if self.empty():\n",
    "            print(\"Pila vacia\")\n",
    "        else:\n",
    "            self.top -= 1\n",
    "            dato = self.top\n",
    "            return self.data[dato]\n",
    "        \n",
    "data = []\n",
    "pila = Pila(data, top=0)\n",
    "\n",
    "\n",
    "# Metiendo datos a la pila\n",
    "pila.push(1)\n",
    "pila.push(2)\n",
    "pila.push(3)\n",
    "pila.push(4)\n",
    "pila.push(5)\n",
    "\n",
    "# Sacando datos de la pila\n",
    "print(pila.pop())\n",
    "print(pila.pop())\n",
    "print(pila.pop())\n"
   ]
  }
 ],
 "metadata": {
  "kernelspec": {
   "display_name": "Python 3",
   "language": "python",
   "name": "python3"
  },
  "language_info": {
   "codemirror_mode": {
    "name": "ipython",
    "version": 3
   },
   "file_extension": ".py",
   "mimetype": "text/x-python",
   "name": "python",
   "nbconvert_exporter": "python",
   "pygments_lexer": "ipython3",
   "version": "3.8.3"
  }
 },
 "nbformat": 4,
 "nbformat_minor": 4
}
